{
 "cells": [
  {
   "cell_type": "code",
   "execution_count": null,
   "metadata": {},
   "outputs": [],
   "source": []
  },
  {
   "cell_type": "code",
   "execution_count": 30,
   "metadata": {},
   "outputs": [],
   "source": [
    "import mysql.connector as mysql\n",
    "from mysql.connector import Error\n",
    "\n",
    "# MySQL DB credentials\n",
    "user = \"username\"\n",
    "password = \"password\""
   ]
  },
  {
   "cell_type": "code",
   "execution_count": 38,
   "metadata": {},
   "outputs": [],
   "source": [
    "def create_database(cursor):\n",
    "    try:\n",
    "        cursor.execute(\"CREATE DATABASE BostonCrimes\")\n",
    "        print(\"Database created successfully\")\n",
    "    except Error as e:\n",
    "        print(f\"Error creating database: {e}\")"
   ]
  },
  {
   "cell_type": "code",
   "execution_count": 39,
   "metadata": {},
   "outputs": [],
   "source": [
    "def create_tables(cursor):\n",
    "    # Crime Types table\n",
    "    cursor.execute(\"\"\"\n",
    "    CREATE TABLE IF NOT EXISTS Crime_Types (\n",
    "        Code VARCHAR(255),\n",
    "        Code_Group VARCHAR(255),\n",
    "        Description VARCHAR(255) NOT NULL,\n",
    "        UCR VARCHAR(255),\n",
    "        PRIMARY KEY (Code, Code_Group)\n",
    "    )\n",
    "    \"\"\")\n",
    "\n",
    "    # Incidents table\n",
    "    cursor.execute(\"\"\"\n",
    "    CREATE TABLE IF NOT EXISTS Incidents (\n",
    "        ID VARCHAR(20) PRIMARY KEY,\n",
    "        Offence_Code VARCHAR(255) NOT NULL,\n",
    "        Shootings BOOLEAN,\n",
    "        Date DATETIME NOT NULL\n",
    "    )\n",
    "    \"\"\")\n",
    "\n",
    "    # Place table\n",
    "    cursor.execute(\"\"\"\n",
    "    CREATE TABLE IF NOT EXISTS Place (\n",
    "        Street VARCHAR(255),\n",
    "        District VARCHAR(255),\n",
    "        Area VARCHAR(255),\n",
    "        Location VARCHAR(255) NOT NULL,\n",
    "        Incident_ID VARCHAR(20),\n",
    "        FOREIGN KEY (Incident_ID) REFERENCES Incidents(ID)\n",
    "    )\n",
    "    \"\"\")\n",
    "\n",
    "    print(\"Tables created successfully\")"
   ]
  },
  {
   "cell_type": "code",
   "execution_count": 40,
   "metadata": {},
   "outputs": [
    {
     "name": "stdout",
     "output_type": "stream",
     "text": [
      "Database created successfully\n",
      "Tables created successfully\n",
      "MySQL connection is closed\n"
     ]
    }
   ],
   "source": [
    "def main():\n",
    "    try:\n",
    "        # Connect to MySQL Server\n",
    "        db = mysql.connect(host=\"localhost\", user=user, passwd=password)\n",
    "        cursor = db.cursor()\n",
    "\n",
    "        # Create database\n",
    "        create_database(cursor)\n",
    "\n",
    "        # Connect to the newly created database\n",
    "        db.database = 'BostonCrimes'\n",
    "\n",
    "        # Create tables\n",
    "        create_tables(cursor)\n",
    "\n",
    "    except Error as e:\n",
    "        print(f\"Error: {e}\")\n",
    "    finally:\n",
    "        if db.is_connected():\n",
    "            cursor.close()\n",
    "            db.close()\n",
    "            print(\"MySQL connection is closed\")\n",
    "\n",
    "if __name__ == \"__main__\":\n",
    "    main()\n"
   ]
  },
  {
   "cell_type": "code",
   "execution_count": 41,
   "metadata": {},
   "outputs": [],
   "source": [
    "import mysql.connector as mysql\n",
    "import csv\n",
    "\n",
    "# Connect to the MySQL Database\n",
    "db = mysql.connect(\n",
    "    host=\"localhost\",\n",
    "    user=\"username\",  # Replace with your username\n",
    "    passwd=\"[password]\",  # Replace with your password\n",
    "    database=\"bostoncrimes\"  # Database name\n",
    ")\n",
    "cursor = db.cursor()"
   ]
  },
  {
   "cell_type": "code",
   "execution_count": 42,
   "metadata": {},
   "outputs": [],
   "source": [
    "# Function to insert data into Crime_Types and Incidents\n",
    "def insert_data(row):\n",
    "    try:\n",
    "        # Prepare data for Crime_Types and Incidents\n",
    "        crime_type_data = (row['OFFENSE_CODE'], row['OFFENSE_CODE_GROUP'], row['OFFENSE_DESCRIPTION'], row['UCR_PART'])\n",
    "        incident_data = (row['INCIDENT_NUMBER'], row['OFFENSE_CODE'], 'Y' if row['SHOOTING'] == 'Y' else None, row['OCCURRED_ON_DATE'])\n",
    "        place_data = (row['STREET'], row['DISTRICT'], row['REPORTING_AREA'], row['Location'], row['INCIDENT_NUMBER'])\n",
    "\n",
    "        # Insert into Crime_Types\n",
    "        cursor.execute(\"INSERT IGNORE INTO Crime_Types(Code, Code_Group, Description, UCR) VALUES (%s, %s, %s, %s)\", crime_type_data)\n",
    "    \n",
    "        # Insert into Incidents\n",
    "        cursor.execute(\"INSERT IGNORE INTO Incidents(ID, Offence_Code, Shootings, Date) VALUES (%s, %s, %s, %s)\", incident_data)\n",
    "\n",
    "        #Insert  into Place\n",
    "        cursor.execute(\"INSERT INTO Place(Street, District, Area, Location, Incident_ID) VALUES (%s, %s, %s, %s, %s)\", place_data)\n",
    "        \n",
    "        if csv_reader.line_num % 100 == 0:\n",
    "            db.commit()\n",
    "    except mysql.connector.Error as err:\n",
    "        print(f\"Error: {err}\")\n",
    "        print(f\"Error row: {row}\")\n",
    "\n",
    "\n",
    "\n",
    "# Read CSV and insert data\n",
    "with open('C:/Users/Gianfranco Pizzuto/OneDrive/Escritorio/DATABASES-PROJECT/Crimes-in-Boston/crime.csv', 'r', encoding='cp1252') as file:\n",
    "    csv_reader = csv.DictReader(file)\n",
    "\n",
    "    for row in csv_reader:\n",
    "        insert_data(row)\n",
    "\n",
    "    # Final commit for any remaining rows\n",
    "    db.commit()\n",
    "\n",
    "# Close the connection\n",
    "cursor.close()\n",
    "db.close()\n"
   ]
  }
 ],
 "metadata": {
  "kernelspec": {
   "display_name": "Python 3",
   "language": "python",
   "name": "python3"
  },
  "language_info": {
   "codemirror_mode": {
    "name": "ipython",
    "version": 3
   },
   "file_extension": ".py",
   "mimetype": "text/x-python",
   "name": "python",
   "nbconvert_exporter": "python",
   "pygments_lexer": "ipython3",
   "version": "3.11.6"
  }
 },
 "nbformat": 4,
 "nbformat_minor": 2
}
