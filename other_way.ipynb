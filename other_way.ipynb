{
 "cells": [
  {
   "cell_type": "markdown",
   "metadata": {},
   "source": [
    "# Importing libaries"
   ]
  },
  {
   "cell_type": "code",
   "execution_count": null,
   "metadata": {},
   "outputs": [],
   "source": [
    "from pymongo import MongoClient\n",
    "import csv"
   ]
  },
  {
   "cell_type": "markdown",
   "metadata": {},
   "source": [
    "# Establish a connection to the MongoDB server running on the local machine"
   ]
  },
  {
   "cell_type": "code",
   "execution_count": null,
   "metadata": {},
   "outputs": [],
   "source": [
    "client = MongoClient('mongodb://localhost:27017/')\n",
    "db = client['crime_database']"
   ]
  },
  {
   "cell_type": "markdown",
   "metadata": {},
   "source": [
    "# Access collections within the database"
   ]
  },
  {
   "cell_type": "code",
   "execution_count": null,
   "metadata": {},
   "outputs": [],
   "source": [
    "crime_types_col = db['crime_types']\n",
    "incidents_col = db['incidents']"
   ]
  },
  {
   "cell_type": "markdown",
   "metadata": {},
   "source": [
    "# Function that imports data from a CSV file into the MongoDB collections"
   ]
  },
  {
   "cell_type": "code",
   "execution_count": null,
   "metadata": {},
   "outputs": [],
   "source": [
    "def import_data():\n",
    "    file_path = 'C:/Users/User/OneDrive/Desktop/DATA_PROJECT/Crimes-in-Boston/crime.csv'\n",
    "    batch_size = 1000  # Number of documents to insert at a time\n",
    "    incidents_batch = []\n",
    "    processed_rows = 0\n",
    "\n",
    "    with open(file_path, mode='r') as file:\n",
    "        reader = csv.DictReader(file)\n",
    "        print(\"Starting data import...\")\n",
    "        for row in reader:\n",
    "            # Process each row and create a document for the incidents collection\n",
    "            incident = {\n",
    "                \"ID\": row['INCIDENT_NUMBER'],\n",
    "                \"OffenceCode\": row['OFFENSE_CODE'],\n",
    "                \"Shootings\": row['SHOOTING'].strip().upper() == 'Y', \n",
    "                \"DateTime\": {\n",
    "                    \"Year\": int(row['YEAR']),\n",
    "                    \"Month\": int(row['MONTH']),\n",
    "                    \"DayOfWeek\": row['DAY_OF_WEEK'],\n",
    "                    \"Hour\": int(row['HOUR'])\n",
    "                },\n",
    "                \"Place\": {\n",
    "                    \"Street\": row['STREET'],\n",
    "                    \"Latitude\": float(row['Lat']) if row['Lat'] else None,\n",
    "                    \"Longitude\": float(row['Long']) if row['Long'] else None,\n",
    "                    \"Location\": row['Location']\n",
    "                }\n",
    "            }\n",
    "            incidents_batch.append(incident)\n",
    "            processed_rows += 1\n",
    "\n",
    "            # Inserting batch when it reaches the batch size\n",
    "            if len(incidents_batch) == batch_size:\n",
    "                incidents_col.insert_many(incidents_batch)\n",
    "                incidents_batch = []\n",
    "                print(f\"Processed and inserted {processed_rows} rows...\")\n",
    "\n",
    "        # Insert any remaining documents in the last batch\n",
    "        if incidents_batch:\n",
    "            incidents_col.insert_many(incidents_batch)\n",
    "            print(f\"Processed and inserted {processed_rows} rows...\")\n",
    "\n",
    "    print(\"Data import completed.\")"
   ]
  },
  {
   "cell_type": "markdown",
   "metadata": {},
   "source": [
    "# Additional CRUD functions with print statements for feedback"
   ]
  },
  {
   "cell_type": "code",
   "execution_count": null,
   "metadata": {},
   "outputs": [],
   "source": [
    "def create_incident(incident_data):\n",
    "    incidents_col.insert_one(incident_data)\n",
    "    print(f\"Inserted incident with ID: {incident_data['ID']}\")\n",
    "\n",
    "def read_incident(incident_id):\n",
    "    incident = incidents_col.find_one({\"ID\": incident_id})\n",
    "    print(f\"Read incident: {incident}\")\n",
    "    return incident\n",
    "\n",
    "def update_incident(incident_id, update_data):\n",
    "    incidents_col.update_one({\"ID\": incident_id}, {\"$set\": update_data})\n",
    "    print(f\"Updated incident with ID: {incident_id}\")\n",
    "\n",
    "def delete_incident(incident_id):\n",
    "    incidents_col.delete_one({\"ID\": incident_id})\n",
    "    print(f\"Deleted incident with ID: {incident_id}\")"
   ]
  },
  {
   "cell_type": "markdown",
   "metadata": {},
   "source": [
    "# Import data\n"
   ]
  },
  {
   "cell_type": "code",
   "execution_count": null,
   "metadata": {},
   "outputs": [],
   "source": [
    "import_data()"
   ]
  },
  {
   "cell_type": "markdown",
   "metadata": {},
   "source": [
    "# Query 1: Count of Incidents by Year"
   ]
  },
  {
   "cell_type": "code",
   "execution_count": null,
   "metadata": {},
   "outputs": [],
   "source": [
    "def query_incidents_by_year():\n",
    "    result = incidents_col.aggregate([\n",
    "        {\"$group\": {\"_id\": \"$DateTime.Year\", \"total_incidents\": {\"$sum\": 1}}},\n",
    "        {\"$sort\": {\"_id\": 1}}\n",
    "    ])\n",
    "    for item in result:\n",
    "        print(f\"Year: {item['_id']}, Total Incidents: {item['total_incidents']}\")"
   ]
  },
  {
   "cell_type": "markdown",
   "metadata": {},
   "source": [
    "# Query 2: Top 5 Most Common Crime Types\n"
   ]
  },
  {
   "cell_type": "code",
   "execution_count": null,
   "metadata": {},
   "outputs": [],
   "source": [
    "def query_top_crime_types():\n",
    "    result = incidents_col.aggregate([\n",
    "        {\"$group\": {\"_id\": \"$OffenceCode\", \"count\": {\"$sum\": 1}}},\n",
    "        {\"$sort\": {\"count\": -1}},\n",
    "        {\"$limit\": 5}\n",
    "    ])\n",
    "    for item in result:\n",
    "        print(f\"Offence Code: {item['_id']}, Count: {item['count']}\")"
   ]
  },
  {
   "cell_type": "markdown",
   "metadata": {},
   "source": [
    "# Query 3: Total number of crimes per hour \n"
   ]
  },
  {
   "cell_type": "code",
   "execution_count": null,
   "metadata": {},
   "outputs": [],
   "source": [
    "def query_crimes_by_hour():\n",
    "    result = incidents_col.aggregate([\n",
    "        {\"$group\": {\"_id\": \"$DateTime.Hour\", \"count\": {\"$sum\": 1}}},\n",
    "        {\"$sort\": {\"_id\": 1}}\n",
    "    ])\n",
    "    for item in result:\n",
    "        print(f\"Hour: {item['_id']}, Number of Crimes: {item['count']}\")"
   ]
  },
  {
   "cell_type": "markdown",
   "metadata": {},
   "source": [
    "# Query 4: Crimes with/without shooting per year\n"
   ]
  },
  {
   "cell_type": "code",
   "execution_count": null,
   "metadata": {},
   "outputs": [],
   "source": [
    "def query_shooting_vs_nonshooting_by_year():\n",
    "    result = incidents_col.aggregate([\n",
    "        {\"$group\": {\n",
    "            \"_id\": {\n",
    "                \"Year\": \"$DateTime.Year\",\n",
    "                \"ShootingInvolved\": \"$Shootings\"\n",
    "            },\n",
    "            \"count\": {\"$sum\": 1}\n",
    "        }},\n",
    "        {\"$sort\": {\"_id.Year\": 1, \"_id.ShootingInvolved\": -1}}\n",
    "    ])\n",
    "    for item in result:\n",
    "        shooting_status = \"With Shooting\" if item[\"_id\"][\"ShootingInvolved\"] else \"Without Shooting\"\n",
    "        print(f\"Year: {item['_id']['Year']}, {shooting_status}: {item['count']}\")"
   ]
  },
  {
   "cell_type": "markdown",
   "metadata": {},
   "source": [
    "# Executing queries"
   ]
  },
  {
   "cell_type": "code",
   "execution_count": null,
   "metadata": {},
   "outputs": [],
   "source": [
    "print(\"\\nExecuting queries...\")\n",
    "query_incidents_by_year()\n",
    "query_top_crime_types()\n",
    "query_crimes_by_hour()\n",
    "query_shooting_vs_nonshooting_by_year()"
   ]
  }
 ],
 "metadata": {
  "language_info": {
   "name": "python"
  }
 },
 "nbformat": 4,
 "nbformat_minor": 2
}
